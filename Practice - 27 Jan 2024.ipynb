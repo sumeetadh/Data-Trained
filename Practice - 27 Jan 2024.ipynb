{
 "cells": [
  {
   "cell_type": "code",
   "execution_count": 1,
   "id": "54029ad1",
   "metadata": {},
   "outputs": [
    {
     "name": "stdout",
     "output_type": "stream",
     "text": [
      "Sumeet Adhiwal\n"
     ]
    }
   ],
   "source": [
    "print (\"Sumeet Adhiwal\")"
   ]
  },
  {
   "cell_type": "code",
   "execution_count": 2,
   "id": "6c55117c",
   "metadata": {},
   "outputs": [
    {
     "data": {
      "text/plain": [
       "40"
      ]
     },
     "execution_count": 2,
     "metadata": {},
     "output_type": "execute_result"
    }
   ],
   "source": [
    "10+30"
   ]
  },
  {
   "cell_type": "code",
   "execution_count": 3,
   "id": "45581be1",
   "metadata": {},
   "outputs": [
    {
     "data": {
      "text/plain": [
       "4"
      ]
     },
     "execution_count": 3,
     "metadata": {},
     "output_type": "execute_result"
    }
   ],
   "source": [
    "10-6"
   ]
  },
  {
   "cell_type": "code",
   "execution_count": null,
   "id": "d2a65110",
   "metadata": {
    "collapsed": true
   },
   "outputs": [],
   "source": [
    "to add the cell above the current cell - ESC+A\n",
    "to add the cell above the current cell - ESC+B\n",
    "to delete the cell - EXC+D+D\n"
   ]
  },
  {
   "cell_type": "code",
   "execution_count": null,
   "id": "3d49385d",
   "metadata": {},
   "outputs": [],
   "source": []
  }
 ],
 "metadata": {
  "kernelspec": {
   "display_name": "Python 3 (ipykernel)",
   "language": "python",
   "name": "python3"
  },
  "language_info": {
   "codemirror_mode": {
    "name": "ipython",
    "version": 3
   },
   "file_extension": ".py",
   "mimetype": "text/x-python",
   "name": "python",
   "nbconvert_exporter": "python",
   "pygments_lexer": "ipython3",
   "version": "3.9.13"
  }
 },
 "nbformat": 4,
 "nbformat_minor": 5
}
